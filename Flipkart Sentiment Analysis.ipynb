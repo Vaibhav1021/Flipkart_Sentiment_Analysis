{
 "cells": [
  {
   "cell_type": "code",
   "execution_count": 1,
   "id": "7981dd4a",
   "metadata": {},
   "outputs": [
    {
     "data": {
      "text/plain": [
       "(            Reviewer Name               Review Title  \\\n",
       " 0            Kamal Suresh               Nice product   \n",
       " 1       Flipkart Customer     Don't waste your money   \n",
       " 2  A. S. Raja Srinivasan   Did not meet expectations   \n",
       " 3     Suresh Narayanasamy                       Fair   \n",
       " 4               ASHIK P A                Over priced   \n",
       " \n",
       "                Place of Review  Up Votes  Down Votes     Month  \\\n",
       " 0   Certified Buyer, Chirakkal     889.0        64.0  Feb 2021   \n",
       " 1   Certified Buyer, Hyderabad     109.0         6.0  Feb 2021   \n",
       " 2  Certified Buyer, Dharmapuri      42.0         3.0  Apr 2021   \n",
       " 3     Certified Buyer, Chennai      25.0         1.0       NaN   \n",
       " 4                          NaN     147.0        24.0  Apr 2016   \n",
       " \n",
       "                                          Review text  Ratings  \n",
       " 0  Nice product, good quality, but price is now r...        4  \n",
       " 1  They didn't supplied Yonex Mavis 350. Outside ...        1  \n",
       " 2  Worst product. Damaged shuttlecocks packed in ...        1  \n",
       " 3  Quite O. K. , but nowadays  the quality of the...        3  \n",
       " 4  Over pricedJust â?¹620 ..from retailer.I didn'...        1  ,\n",
       "      Reviewer_Name  Reviewer_Rating           Review_Title  \\\n",
       " 0     Sumit  Kumar              5.0              Wonderful   \n",
       " 1  BHARAT GALAGALI              5.0  Mind-blowing purchase   \n",
       " 2  Paramjeet Singh              5.0                Awesome   \n",
       " 3  Virendra  Kumar              5.0          Great product   \n",
       " 4    jyoti solanki              5.0    Best in the market!   \n",
       " \n",
       "                                          Review_Text  \\\n",
       " 0  I think In this price category it's best dosa ...   \n",
       " 1                   perfect tawa for Dosa..READ MORE   \n",
       " 2  Excellent tawa. Made Paneer Tikka on first day...   \n",
       " 3                            Nice 🙂 productREAD MORE   \n",
       " 4             Delivery man is also good....READ MORE   \n",
       " \n",
       "                           Place_of_Review   Date_of_Review  Up_Votes  \\\n",
       " 0             Certified Buyer, Lakhisarai     Sumit  Kumar       211   \n",
       " 1                 Certified Buyer, Hunsur  BHARAT GALAGALI       107   \n",
       " 2           Certified Buyer, Rampura Phul  Paramjeet Singh        59   \n",
       " 3  Certified Buyer, Chengalpattu District  Virendra  Kumar        77   \n",
       " 4                 Certified Buyer, Mumbai    jyoti solanki        53   \n",
       " \n",
       "    Down_Votes  \n",
       " 0          39  \n",
       " 1          17  \n",
       " 2           8  \n",
       " 3          12  \n",
       " 4           7  ,\n",
       "        reviewer_name  reviewer_rating        review_title  \\\n",
       " 0   Subhro  Banerjee                5   Worth every penny   \n",
       " 1  Shiv chandra  Jha                5       Great product   \n",
       " 2  Flipkart Customer                5  Highly recommended   \n",
       " 3              DTH Y                4           Very Good   \n",
       " 4    Bhavesh Godhani                5      Classy product   \n",
       " \n",
       "                                          review_text  \\\n",
       " 0  Great product 🤗 with great deals 😍😍 Tata Tea G...   \n",
       " 1  Very nice and super qwality tea taste are grea...   \n",
       " 2  Great test great quality great price point tim...   \n",
       " 3                                    Nice 😊READ MORE   \n",
       " 4               Very Good Tata tea product.READ MORE   \n",
       " \n",
       "                    place_of_review     Date_of_review  up_votes  Down_votes  \n",
       " 0     Certified Buyer, Budge Budge   Subhro  Banerjee       236          59  \n",
       " 1         Certified Buyer, Saharsa  Shiv chandra  Jha       225          79  \n",
       " 2  Certified Buyer, Sri Ganganagar  Flipkart Customer        89          27  \n",
       " 3         Certified Buyer, Phaltan              DTH Y        30           6  \n",
       " 4       Certified Buyer, Ahmedabad    Bhavesh Godhani        69          22  )"
      ]
     },
     "execution_count": 1,
     "metadata": {},
     "output_type": "execute_result"
    }
   ],
   "source": [
    "import pandas as pd\n",
    "\n",
    "# Load the datasets\n",
    "data1 = pd.read_csv('C:/Users/Vaibhav/Desktop/reviews_data_dump/reviews_badminton/data1.csv')\n",
    "data2 = pd.read_csv('C:/Users/Vaibhav/Desktop/reviews_data_dump/reviews_tawa/data2.csv')\n",
    "data3 = pd.read_csv('C:/Users/Vaibhav/Desktop/reviews_data_dump/reviews_tea/data3.csv')\n",
    "\n",
    "\n",
    "data1.head(), data2.head(), data3.head()\n"
   ]
  },
  {
   "cell_type": "code",
   "execution_count": 2,
   "id": "51c863c1",
   "metadata": {},
   "outputs": [],
   "source": [
    "# Standardize column names across all datasets\n",
    "standard_columns = ['reviewer_name', 'review_title', 'review_text', 'review_rating', 'place_of_review', 'up_votes', 'down_votes', 'date_of_review']\n",
    "\n",
    "# Rename columns to align with the standard we've defined\n",
    "data1.columns = ['reviewer_name', 'review_title', 'place_of_review', 'up_votes', 'down_votes', 'date_of_review', 'review_text', 'review_rating']\n",
    "data2.columns = standard_columns\n",
    "data3.columns = standard_columns\n",
    "\n",
    "# Merge all datasets into a single DataFrame\n",
    "combined_data = pd.concat([data1, data2, data3], ignore_index=True)\n"
   ]
  },
  {
   "cell_type": "code",
   "execution_count": 3,
   "id": "56e86cb8",
   "metadata": {},
   "outputs": [],
   "source": [
    "\n",
    "combined_data.dropna(subset=['review_text', 'review_rating'], inplace=True)\n"
   ]
  },
  {
   "cell_type": "code",
   "execution_count": 4,
   "id": "9270f580",
   "metadata": {},
   "outputs": [
    {
     "name": "stderr",
     "output_type": "stream",
     "text": [
      "[nltk_data] Downloading package stopwords to\n",
      "[nltk_data]     C:\\Users\\Vaibhav\\AppData\\Roaming\\nltk_data...\n",
      "[nltk_data]   Package stopwords is already up-to-date!\n",
      "[nltk_data] Downloading package wordnet to\n",
      "[nltk_data]     C:\\Users\\Vaibhav\\AppData\\Roaming\\nltk_data...\n",
      "[nltk_data]   Package wordnet is already up-to-date!\n"
     ]
    }
   ],
   "source": [
    "import re\n",
    "from nltk.corpus import stopwords\n",
    "from nltk.stem import WordNetLemmatizer\n",
    "\n",
    "# Download necessary NLTK data\n",
    "import nltk\n",
    "nltk.download('stopwords')\n",
    "nltk.download('wordnet')\n",
    "\n",
    "# Function for text cleaning and normalization\n",
    "def preprocess_text(text):\n",
    "    # Lowercasing\n",
    "    text = text.lower()\n",
    "    # Remove special characters and digits\n",
    "    text = re.sub(r'[^a-z\\s]', '', text)\n",
    "    # Remove stopwords\n",
    "    stop_words = set(stopwords.words('english'))\n",
    "    text = ' '.join([word for word in text.split() if word not in stop_words])\n",
    "    # Lemmatization\n",
    "    lemmatizer = WordNetLemmatizer()\n",
    "    text = ' '.join([lemmatizer.lemmatize(word) for word in text.split()])\n",
    "    return text\n",
    "\n",
    "# Apply the preprocessing function to the review texts\n",
    "combined_data['processed_review_text'] = combined_data['review_text'].apply(preprocess_text)\n"
   ]
  },
  {
   "cell_type": "code",
   "execution_count": 5,
   "id": "43495b4d",
   "metadata": {},
   "outputs": [],
   "source": [
    "from sklearn.feature_extraction.text import TfidfVectorizer\n",
    "\n",
    "# Initialize TF-IDF Vectorizer\n",
    "tfidf_vectorizer = TfidfVectorizer(max_features=5000)\n",
    "\n",
    "# Fit and transform the processed review texts\n",
    "tfidf_features = tfidf_vectorizer.fit_transform(combined_data['processed_review_text'])\n"
   ]
  },
  {
   "cell_type": "code",
   "execution_count": 10,
   "id": "7d14c840",
   "metadata": {},
   "outputs": [
    {
     "name": "stdout",
     "output_type": "stream",
     "text": [
      "              precision    recall  f1-score   support\n",
      "\n",
      "           0       0.85      0.42      0.56       337\n",
      "           1       0.87      0.98      0.92      1365\n",
      "\n",
      "    accuracy                           0.87      1702\n",
      "   macro avg       0.86      0.70      0.74      1702\n",
      "weighted avg       0.87      0.87      0.85      1702\n",
      "\n",
      "F1-Score: 0.8516030539181589\n"
     ]
    }
   ],
   "source": [
    "from sklearn.feature_extraction.text import TfidfVectorizer\n",
    "from sklearn.model_selection import train_test_split\n",
    "from sklearn.linear_model import LogisticRegression\n",
    "from sklearn.metrics import classification_report, f1_score\n",
    "\n",
    "\n",
    "# Re-generate TF-IDF features AFTER cleaning\n",
    "tfidf_vectorizer = TfidfVectorizer(max_features=5000)\n",
    "tfidf_features = tfidf_vectorizer.fit_transform(combined_data['processed_review_text'])\n",
    "\n",
    "# Convert ratings into binary sentiment indicator (positive: 1, negative: 0)\n",
    "combined_data['sentiment'] = combined_data['review_rating'].apply(lambda x: 1 if x > 3 else 0)\n",
    "\n",
    "# Split the dataset into training and test sets AFTER TF-IDF features are generated\n",
    "X_train, X_test, y_train, y_test = train_test_split(tfidf_features, combined_data['sentiment'], test_size=0.2, random_state=42)\n",
    "\n",
    "# Model Training\n",
    "model = LogisticRegression(max_iter=1000)\n",
    "model.fit(X_train, y_train)\n",
    "\n",
    "# Model Evaluation\n",
    "predictions = model.predict(X_test)\n",
    "print(classification_report(y_test, predictions))\n",
    "f1 = f1_score(y_test, predictions, average='weighted')\n",
    "print(f\"F1-Score: {f1}\")\n"
   ]
  },
  {
   "cell_type": "code",
   "execution_count": 11,
   "id": "928bdc5f",
   "metadata": {},
   "outputs": [
    {
     "data": {
      "text/plain": [
       "['C:/Users/Vaibhav/Desktop/reviews_data_dump/tfidf_vectorizer.joblib']"
      ]
     },
     "execution_count": 11,
     "metadata": {},
     "output_type": "execute_result"
    }
   ],
   "source": [
    "from joblib import dump\n",
    "\n",
    "# Save the trained model\n",
    "dump(model, 'C:/Users/Vaibhav/Desktop/reviews_data_dump/logistic_regression_model.joblib')\n",
    "\n",
    "# Save the TF-IDF vectorizer\n",
    "dump(tfidf_vectorizer, 'C:/Users/Vaibhav/Desktop/reviews_data_dump/tfidf_vectorizer.joblib')\n"
   ]
  }
 ],
 "metadata": {
  "kernelspec": {
   "display_name": "Python 3 (ipykernel)",
   "language": "python",
   "name": "python3"
  },
  "language_info": {
   "codemirror_mode": {
    "name": "ipython",
    "version": 3
   },
   "file_extension": ".py",
   "mimetype": "text/x-python",
   "name": "python",
   "nbconvert_exporter": "python",
   "pygments_lexer": "ipython3",
   "version": "3.11.3"
  }
 },
 "nbformat": 4,
 "nbformat_minor": 5
}
